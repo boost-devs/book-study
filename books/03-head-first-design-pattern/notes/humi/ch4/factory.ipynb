{
 "cells": [
  {
   "cell_type": "code",
   "execution_count": 14,
   "metadata": {},
   "outputs": [],
   "source": [
    "from abc import ABCMeta, abstractmethod"
   ]
  },
  {
   "cell_type": "code",
   "execution_count": 38,
   "metadata": {},
   "outputs": [],
   "source": [
    "class Peanut:\n",
    "    def get_ingredient(self):\n",
    "        return \"우도 땅콩\"\n",
    "\n",
    "\n",
    "class Cream:\n",
    "    def get_ingredient(self):\n",
    "        return \"판교 땅콩\"\n",
    "\n",
    "\n",
    "class PineNut:\n",
    "    def get_ingredient(self):\n",
    "        return \"가평 잣\""
   ]
  },
  {
   "cell_type": "code",
   "execution_count": 66,
   "metadata": {},
   "outputs": [],
   "source": [
    "class SandFactory:\n",
    "    __metaclass__ = ABCMeta\n",
    "\n",
    "    @abstractmethod\n",
    "    def create_sand(self):\n",
    "        pass\n",
    "\n",
    "class JeJuSand(SandFactory):\n",
    "\n",
    "    def __init__(self, ingredient_factory):\n",
    "        # 빵집 스타일을 정하고\n",
    "        self.ingredient_factory = ingredient_factory\n",
    "\n",
    "    def get_sand(self):\n",
    "        return Peanut().get_ingredient() + \" + \" + self.ingredient_factory.create_bake()\n",
    "\n",
    "\n",
    "class PanGyoSand(SandFactory):\n",
    "\n",
    "    def __init__(self, ingredient_factory):\n",
    "        # 빵집 스타일을 정하고\n",
    "        self.ingredient_factory = ingredient_factory\n",
    "\n",
    "    def get_sand(self):\n",
    "        return Cream()\n",
    "\n",
    "\n",
    "class GaPyeongSand(SandFactory):\n",
    "\n",
    "    def __init__(self, ingredient_factory):\n",
    "        # 빵집 스타일을 정하고\n",
    "        self.ingredient_factory = ingredient_factory\n",
    "\n",
    "    def get_sand(self):\n",
    "        return PineNut()"
   ]
  },
  {
   "cell_type": "code",
   "execution_count": 67,
   "metadata": {},
   "outputs": [],
   "source": [
    "class PBIngredientFactory:\n",
    "    def __init__(self):\n",
    "        self.package = \"PB\"\n",
    "\n",
    "    def create_bake(self):\n",
    "        return \"Milk\"\n",
    "\n",
    "class TLSIngredientFactory:\n",
    "    def __init__(self):\n",
    "        self.package = \"TLS\"\n",
    "\n",
    "    def create_bake(self):\n",
    "        return \"Coffee\""
   ]
  },
  {
   "cell_type": "code",
   "execution_count": 68,
   "metadata": {},
   "outputs": [],
   "source": [
    "class Bakery:\n",
    "    __metaclass__ = ABCMeta\n",
    "\n",
    "    @abstractmethod\n",
    "    def __init__(self, sand):\n",
    "        pass\n",
    "\n",
    "    @abstractmethod\n",
    "    def create_sand(self, store):\n",
    "        pass\n",
    "\n",
    "\n",
    "class ParisBagutte(Bakery):\n",
    "\n",
    "    def __init__(self):\n",
    "        pass\n",
    "\n",
    "    def create_sand(self, sand_type):\n",
    "        sand = None\n",
    "        # 파리바게트 스타일 첨가 (e.g 빵을 우유로 만듬)\n",
    "        ingredient_factory = PBIngredientFactory()\n",
    "\n",
    "        if sand_type == \"jeju\":\n",
    "            sand = JeJuSand(ingredient_factory)\n",
    "            print(sand.get_sand())\n",
    "\n",
    "class TLS(Bakery):\n",
    "\n",
    "    def __init__(self):\n",
    "        pass\n",
    "\n",
    "    def create_sand(self, sand_type):\n",
    "        sand = None\n",
    "        ingredient_factory = PBIngredientFactory()\n",
    "\n",
    "        if sand_type == \"jeju\":\n",
    "            sand = JeJuSand(ingredient_factory)\n",
    "            print(sand.get_sand())\n",
    "\n",
    "        if sand_type == \"pangyo\":\n",
    "            sand = JeJuSand(ingredient_factory)\n",
    "            print(sand.get_sand())\n",
    "\n",
    "    "
   ]
  },
  {
   "cell_type": "code",
   "execution_count": 72,
   "metadata": {},
   "outputs": [
    {
     "name": "stdout",
     "output_type": "stream",
     "text": [
      "우도 땅콩 + Milk\n"
     ]
    }
   ],
   "source": [
    "bakery = ParisBagutte()\n",
    "bakery.create_sand(\"jeju\")"
   ]
  },
  {
   "cell_type": "code",
   "execution_count": null,
   "metadata": {},
   "outputs": [],
   "source": []
  },
  {
   "cell_type": "code",
   "execution_count": null,
   "metadata": {},
   "outputs": [],
   "source": []
  },
  {
   "cell_type": "code",
   "execution_count": null,
   "metadata": {},
   "outputs": [],
   "source": []
  }
 ],
 "metadata": {
  "kernelspec": {
   "display_name": "Python 3.10.8 64-bit (microsoft store)",
   "language": "python",
   "name": "python3"
  },
  "language_info": {
   "codemirror_mode": {
    "name": "ipython",
    "version": 3
   },
   "file_extension": ".py",
   "mimetype": "text/x-python",
   "name": "python",
   "nbconvert_exporter": "python",
   "pygments_lexer": "ipython3",
   "version": "3.10.9 (tags/v3.10.9:1dd9be6, Dec  6 2022, 20:01:21) [MSC v.1934 64 bit (AMD64)]"
  },
  "orig_nbformat": 4,
  "vscode": {
   "interpreter": {
    "hash": "7b1f2b33e866b0bf2409397e5f58ba9cdf170d3b7f64c8f359c79998e2f88ad4"
   }
  }
 },
 "nbformat": 4,
 "nbformat_minor": 2
}
