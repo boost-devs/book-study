{
 "cells": [
  {
   "cell_type": "code",
   "execution_count": 1,
   "metadata": {},
   "outputs": [],
   "source": [
    "from abc import abstractmethod"
   ]
  },
  {
   "cell_type": "code",
   "execution_count": 10,
   "metadata": {},
   "outputs": [],
   "source": [
    "class Duck:\n",
    "\n",
    "    def quak(self):\n",
    "        print(\"꽥\")\n",
    "\n",
    "    def swim(self):\n",
    "        print(\"수영 잘 함\")\n",
    "\n",
    "    @abstractmethod\n",
    "    def display(self):\n",
    "        pass\n",
    "\n",
    "\n",
    "class MallardDuck(Duck):\n",
    "    \n",
    "    def display(self):\n",
    "        print(\"MallardDuck!!\")\n",
    "\n",
    "\n",
    "class ToyDuckVer1(Duck):\n",
    "\n",
    "    def display(self):\n",
    "        print(\"ToyDuck-V1!!\")\n",
    "\n",
    "    def swim(self):\n",
    "        print(\"수영 아예 못함\")\n",
    "\n",
    "\n",
    "class ToyDuckVer2(Duck):\n",
    "\n",
    "    def display(self):\n",
    "        print(\"ToyDuck-V2!!\")\n",
    "\n",
    "    def swim(self):\n",
    "        print(\"수영 조금 함\")\n",
    "\n",
    "\n",
    "class ToyDuckVer3(Duck):\n",
    "\n",
    "    def display(self):\n",
    "        print(\"ToyDuck-V3!!\")\n",
    "\n",
    "    def swim(self):\n",
    "        print(\"수영 조금 함\")"
   ]
  },
  {
   "cell_type": "code",
   "execution_count": 11,
   "metadata": {},
   "outputs": [
    {
     "name": "stdout",
     "output_type": "stream",
     "text": [
      "수영 잘 함\n",
      "수영 아예 못함\n",
      "수영 조금 함\n",
      "수영 조금 함\n"
     ]
    }
   ],
   "source": [
    "MallardDuck().swim()\n",
    "ToyDuckVer1().swim()\n",
    "ToyDuckVer2().swim()\n",
    "ToyDuckVer3().swim()"
   ]
  },
  {
   "cell_type": "markdown",
   "metadata": {},
   "source": [
    "### 위 구조 설명\n",
    "* `Duck` 클래스에 `quak`, `swim`, `display`가 있음\n",
    "* 모든 오리들은 `quak`이랑 `swim`을 할 줄 알거기 때문에 Duck 클래스 메소드로 함\n",
    "* `display` 메소드는 모든 오리 마다 고유의 특징을 갖고 있기 때문에 추성 메소드로만 구현\n",
    "\n",
    "\n",
    "### 위 구조의 문제점\n",
    "* 만약 `swim`을 하지 못하는 오리가 들어오면?   e.g)n개의 ToyDuck들은 수영을 못함\n",
    "  * n개의 ToyDuck들을 추가할때마다 `swim` 메소드를 오버라이드함 -> n번의 반복이 필요함"
   ]
  },
  {
   "cell_type": "code",
   "execution_count": 12,
   "metadata": {},
   "outputs": [],
   "source": [
    "class SwimBehavior():\n",
    "\n",
    "    @abstractmethod\n",
    "    def swim(self):\n",
    "        pass\n",
    "\n",
    "\n",
    "class SwimGood(SwimBehavior):\n",
    "    def swim(self):\n",
    "        print(\"수영 잘 함\")\n",
    "\n",
    "\n",
    "class SwimSoso(SwimBehavior):\n",
    "    def swim(self):\n",
    "        print(\"수영 조금 함\")\n",
    "\n",
    "\n",
    "class SwimBad(SwimBehavior):\n",
    "    def swim(self):\n",
    "        print(\"수영 아예 못함\")\n",
    "\n",
    "\n",
    "class SwimNotImplement(SwimBehavior):\n",
    "    def swim(self):\n",
    "        print(\"To Be....\")"
   ]
  },
  {
   "cell_type": "code",
   "execution_count": 13,
   "metadata": {},
   "outputs": [],
   "source": [
    "class Duck:\n",
    "    swim_behavior = None\n",
    "    quack_behavior = None\n",
    "\n",
    "    @abstractmethod\n",
    "    def display(self):\n",
    "        pass\n",
    "\n",
    "    def swim(self):\n",
    "        self.swim_behavior.swim()\n",
    "\n",
    "    def set_swim_behavior(self, swim_behavior):\n",
    "        self.swim_behavior = swim_behavior\n",
    "\n",
    "\n",
    "class MallardDuck(Duck):\n",
    "\n",
    "    def __init__(self):\n",
    "        self.swim_behavior = SwimGood()\n",
    "    \n",
    "    def display(self):\n",
    "        print(\"MallardDuck!!\")\n",
    "\n",
    "\n",
    "class ToyDuckVer1(Duck):\n",
    "\n",
    "    def __init__(self):\n",
    "        self.swim_behavior = SwimBad()\n",
    "\n",
    "    def display(self):\n",
    "        print(\"ToyDuck-V1!!\")\n",
    "\n",
    "\n",
    "class ToyDuckVer2(Duck):\n",
    "\n",
    "    def __init__(self):\n",
    "        self.swim_behavior = SwimSoso()\n",
    "\n",
    "    def display(self):\n",
    "        print(\"ToyDuck-V2!!\")\n",
    "\n",
    "\n",
    "class ToyDuckVer3(Duck):\n",
    "\n",
    "    def __init__(self):\n",
    "        self.swim_behavior = SwimSoso()\n",
    "\n",
    "    def display(self):\n",
    "        print(\"ToyDuck-V3!!\")"
   ]
  },
  {
   "cell_type": "code",
   "execution_count": 14,
   "metadata": {},
   "outputs": [
    {
     "name": "stdout",
     "output_type": "stream",
     "text": [
      "수영 잘 함\n",
      "수영 아예 못함\n",
      "수영 조금 함\n",
      "수영 조금 함\n"
     ]
    }
   ],
   "source": [
    "MallardDuck().swim()\n",
    "ToyDuckVer1().swim()\n",
    "ToyDuckVer2().swim()\n",
    "ToyDuckVer3().swim()"
   ]
  },
  {
   "cell_type": "markdown",
   "metadata": {},
   "source": [
    "### 위 구조 설명\n",
    "* ~~`quak`은 귀찮아서 지움~~\n",
    "* 첫 코드의 문제점인 여러 `swim`이 들어 왔을때 클래스안에 들어가 바꿔야되는 문제를 `SwimBehavior`클래스만 바꾸면 되도록 해결\n",
    "* 추후 유지 보수에 용이"
   ]
  }
 ],
 "metadata": {
  "kernelspec": {
   "display_name": "Python 3.10.7 64-bit",
   "language": "python",
   "name": "python3"
  },
  "language_info": {
   "codemirror_mode": {
    "name": "ipython",
    "version": 3
   },
   "file_extension": ".py",
   "mimetype": "text/x-python",
   "name": "python",
   "nbconvert_exporter": "python",
   "pygments_lexer": "ipython3",
   "version": "3.10.7"
  },
  "orig_nbformat": 4,
  "vscode": {
   "interpreter": {
    "hash": "a7dbb88c84ecda04e2dfa8176cb6708abf8c95c32934f510df16d1a1f4945387"
   }
  }
 },
 "nbformat": 4,
 "nbformat_minor": 2
}
