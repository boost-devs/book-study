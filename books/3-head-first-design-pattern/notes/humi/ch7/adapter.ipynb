{
 "cells": [
  {
   "cell_type": "code",
   "execution_count": 1,
   "metadata": {},
   "outputs": [],
   "source": [
    "# 출처 https://wellsw.tistory.com/240\n",
    "from abc import ABC, abstractmethod\n",
    "\n",
    "\n",
    "class Fighter(ABC):\n",
    "    @abstractmethod\n",
    "    def attack(self): pass\n",
    "\n",
    "    @abstractmethod\n",
    "    def defend(self): pass\n",
    "\n",
    "    @abstractmethod\n",
    "    def escape(self): pass\n",
    "\n",
    "\n",
    "class Warrior(Fighter):\n",
    "    def attack(self):\n",
    "        print('칼을 휘두르다')\n",
    "\n",
    "    def defend(self):\n",
    "        print('방패를 들어올니다')\n",
    "\n",
    "    def escape(self):\n",
    "        print('뒤로 물러난다')\n"
   ]
  },
  {
   "cell_type": "code",
   "execution_count": 2,
   "metadata": {},
   "outputs": [
    {
     "name": "stdout",
     "output_type": "stream",
     "text": [
      "칼을 휘두르다\n",
      "방패를 들어올니다\n",
      "뒤로 물러난다\n"
     ]
    }
   ],
   "source": [
    "warrior = Warrior()\n",
    "warrior.attack()\n",
    "warrior.defend()\n",
    "warrior.escape()"
   ]
  },
  {
   "cell_type": "code",
   "execution_count": 3,
   "metadata": {},
   "outputs": [
    {
     "name": "stdout",
     "output_type": "stream",
     "text": [
      "파이어볼 발사\n",
      "주변에 보호막 씌우기\n",
      "포탈 열고 이동\n"
     ]
    }
   ],
   "source": [
    "class WizardAdapter(Fighter):\n",
    "    def __init__(self, wizard):\n",
    "        self.wizard = wizard\n",
    "\n",
    "    def attack(self):\n",
    "        self.wizard.shot_fire_ball()\n",
    "\n",
    "    def defend(self):\n",
    "        self.wizard.shield()\n",
    "\n",
    "    def escape(self):\n",
    "        self.wizard.portal()\n",
    "\n",
    "\n",
    "class Wizard:\n",
    "    def shot_fire_ball(self):\n",
    "        print('파이어볼 발사')\n",
    "\n",
    "    def shield(self):\n",
    "        print('주변에 보호막 씌우기')\n",
    "\n",
    "    def portal(self):\n",
    "        print('포탈 열고 이동')\n",
    "\n",
    "\n",
    "wizard = WizardAdapter(Wizard())\n",
    "wizard.attack()\n",
    "wizard.defend()\n",
    "wizard.escape()"
   ]
  },
  {
   "cell_type": "code",
   "execution_count": null,
   "metadata": {},
   "outputs": [],
   "source": []
  }
 ],
 "metadata": {
  "kernelspec": {
   "display_name": "Python 3",
   "language": "python",
   "name": "python3"
  },
  "language_info": {
   "codemirror_mode": {
    "name": "ipython",
    "version": 3
   },
   "file_extension": ".py",
   "mimetype": "text/x-python",
   "name": "python",
   "nbconvert_exporter": "python",
   "pygments_lexer": "ipython3",
   "version": "3.10.9"
  },
  "orig_nbformat": 4,
  "vscode": {
   "interpreter": {
    "hash": "7b1f2b33e866b0bf2409397e5f58ba9cdf170d3b7f64c8f359c79998e2f88ad4"
   }
  }
 },
 "nbformat": 4,
 "nbformat_minor": 2
}
