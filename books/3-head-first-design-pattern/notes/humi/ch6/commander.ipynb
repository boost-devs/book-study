{
 "cells": [
  {
   "cell_type": "code",
   "execution_count": 1,
   "metadata": {},
   "outputs": [],
   "source": [
    "from abc import ABCMeta, abstractmethod\n",
    "from collections import defaultdict"
   ]
  },
  {
   "cell_type": "code",
   "execution_count": 2,
   "metadata": {},
   "outputs": [],
   "source": [
    "class SmartThings:\n",
    "\n",
    "    def __init__(self):\n",
    "        self._on_commands = defaultdict(str)\n",
    "        self._off_commands = defaultdict(str)\n",
    "\n",
    "    def set_command(self, slot, on_command, off_command):\n",
    "        self._on_commands[slot] = on_command\n",
    "        self._off_commands[slot] = off_command\n",
    "\n",
    "    def on_button_was_pushed(self, slot):\n",
    "        self._on_commands[slot].execute()\n",
    "    \n",
    "    def off_button_was_pushed(self, slot):\n",
    "        self._off_commands[slot].execute()\n"
   ]
  },
  {
   "cell_type": "code",
   "execution_count": 3,
   "metadata": {},
   "outputs": [],
   "source": [
    "class Command:\n",
    "    __metaclass__ = ABCMeta\n",
    "\n",
    "    @abstractmethod\n",
    "    def execute(self):\n",
    "        pass"
   ]
  },
  {
   "cell_type": "code",
   "execution_count": 4,
   "metadata": {},
   "outputs": [],
   "source": [
    "class Light:\n",
    "\n",
    "    def __init__(self, location):\n",
    "        self._location = location\n",
    "\n",
    "    def on(self):\n",
    "        print(self._location + \"불 켬\")\n",
    "\n",
    "    def off(self):\n",
    "        print(self._location + \"불 끔\")"
   ]
  },
  {
   "cell_type": "code",
   "execution_count": 5,
   "metadata": {},
   "outputs": [],
   "source": [
    "class LightOnCommand(Command):\n",
    "\n",
    "    def __init__(self, light):\n",
    "        self._light = light\n",
    "\n",
    "    def execute(self):\n",
    "        self._light.on()\n",
    "\n",
    "\n",
    "class LightOffCommand(Command):\n",
    "\n",
    "    def __init__(self, light):\n",
    "        self._light = light\n",
    "\n",
    "    def execute(self):\n",
    "        self._light.off()"
   ]
  },
  {
   "cell_type": "code",
   "execution_count": 8,
   "metadata": {},
   "outputs": [
    {
     "name": "stdout",
     "output_type": "stream",
     "text": [
      "거실 등불 켬\n",
      "거실 등불 끔\n"
     ]
    }
   ],
   "source": [
    "remote_control = SmartThings()\n",
    "\n",
    "living_room_light = Light(\"거실 등\")\n",
    "kitchen_light = Light(\"부엌 등\")\n",
    "\n",
    "living_room_light_on = LightOnCommand(living_room_light)\n",
    "living_room_light_off = LightOffCommand(living_room_light)\n",
    "kitchen_light_on = LightOnCommand(kitchen_light)\n",
    "kitchen_light_off = LightOffCommand(kitchen_light)\n",
    "\n",
    "remote_control.set_command(\"거실 등\", living_room_light_on, living_room_light_off)\n",
    "remote_control.set_command(\"부엌 등\", kitchen_light_on, kitchen_light_off)\n",
    "\n",
    "remote_control.on_button_was_pushed(\"거실 등\")\n",
    "remote_control.off_button_was_pushed(\"거실 등\")"
   ]
  },
  {
   "cell_type": "code",
   "execution_count": null,
   "metadata": {},
   "outputs": [],
   "source": []
  }
 ],
 "metadata": {
  "kernelspec": {
   "display_name": "Python 3",
   "language": "python",
   "name": "python3"
  },
  "language_info": {
   "codemirror_mode": {
    "name": "ipython",
    "version": 3
   },
   "file_extension": ".py",
   "mimetype": "text/x-python",
   "name": "python",
   "nbconvert_exporter": "python",
   "pygments_lexer": "ipython3",
   "version": "3.10.9"
  },
  "orig_nbformat": 4,
  "vscode": {
   "interpreter": {
    "hash": "7b1f2b33e866b0bf2409397e5f58ba9cdf170d3b7f64c8f359c79998e2f88ad4"
   }
  }
 },
 "nbformat": 4,
 "nbformat_minor": 2
}
