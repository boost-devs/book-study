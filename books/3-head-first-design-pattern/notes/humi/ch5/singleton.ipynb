{
 "cells": [
  {
   "cell_type": "code",
   "execution_count": 6,
   "metadata": {},
   "outputs": [
    {
     "name": "stdout",
     "output_type": "stream",
     "text": [
      "True\n",
      "4413850048 4413850048\n",
      "True\n"
     ]
    }
   ],
   "source": [
    "class Singleton(object):\n",
    "    instance = None\n",
    "\n",
    "    def __new__(cls):\n",
    "        if cls.instance is None:\n",
    "            cls.instance = object.__new__(cls)\n",
    "        return cls.instance\n",
    "\n",
    "singleton1 = Singleton()\n",
    "singleton2 = Singleton()\n",
    "print(singleton1 == singleton2)\n",
    "print(id(singleton1), id(singleton2))\n",
    "print(singleton1 is singleton2)"
   ]
  },
  {
   "cell_type": "code",
   "execution_count": 1,
   "metadata": {},
   "outputs": [],
   "source": [
    "from multiprocessing.pool import ThreadPool"
   ]
  },
  {
   "cell_type": "code",
   "execution_count": 2,
   "metadata": {},
   "outputs": [
    {
     "name": "stdout",
     "output_type": "stream",
     "text": [
      "{'A': 900, 'B': 500}{'A': 900, 'B': -100}\n",
      "{'A': 1500, 'B': -100}\n",
      "\n",
      "{'A': 1500, 'B': 0}\n"
     ]
    }
   ],
   "source": [
    "class Bank(object):\n",
    "    instance = None\n",
    "    customer_account = {\n",
    "        \"A\": 1000,\n",
    "        \"B\": 500,\n",
    "    }\n",
    "\n",
    "    def __new__(cls):\n",
    "        if cls.instance is None:\n",
    "            cls.instance = object.__new__(cls)\n",
    "        return cls.instance\n",
    "\n",
    "    def draw(self, money, _from, _to):\n",
    "        self.customer_account[_from] -= money\n",
    "        print(self.customer_account)\n",
    "        self.customer_account[_to] += money\n",
    "        print(self.customer_account)\n",
    "\n",
    "def trigger(command):\n",
    "    money, _from, _to = command\n",
    "    bank = Bank()\n",
    "    bank.draw(money, _from, _to)\n",
    "\n",
    "with ThreadPool(processes=2) as pool:\n",
    "    data = pool.map(trigger, [(100, \"A\", \"B\"), (600, \"B\", \"A\")])"
   ]
  },
  {
   "cell_type": "code",
   "execution_count": 3,
   "metadata": {},
   "outputs": [
    {
     "name": "stdout",
     "output_type": "stream",
     "text": [
      "4676565552\n",
      "4676565552\n",
      "{'A': 900, 'B': 500}\n",
      "{'A': 900, 'B': 600}\n",
      "4676565552\n",
      "{'A': 900, 'B': 0}\n",
      "{'A': 1500, 'B': 0}\n"
     ]
    }
   ],
   "source": [
    "import threading\n",
    "\n",
    "class Bank(object):\n",
    "    instance = None\n",
    "    _lock = threading.Lock()\n",
    "\n",
    "    customer_account = {\n",
    "        \"A\": 1000,\n",
    "        \"B\": 500,\n",
    "    }\n",
    "    def __new__(cls):\n",
    "        if cls.instance is None:\n",
    "            cls.instance = object.__new__(cls)\n",
    "        return cls.instance\n",
    "\n",
    "    def draw(self, money, _from, _to):\n",
    "        with self._lock:\n",
    "            print(id(self))\n",
    "            self.customer_account[_from] -= money\n",
    "            print(self.customer_account)\n",
    "            self.customer_account[_to] += money\n",
    "            print(self.customer_account)\n",
    "\n",
    "def trigger(command):\n",
    "    money, _from, _to = command\n",
    "    bank = Bank()\n",
    "    bank.draw(money, _from, _to)\n",
    "    \n",
    "print(id(Bank()))\n",
    "\n",
    "with ThreadPool(processes=2) as pool:\n",
    "    data = pool.map(trigger, [(100, \"A\", \"B\"), (600, \"B\", \"A\")])"
   ]
  },
  {
   "cell_type": "code",
   "execution_count": null,
   "metadata": {},
   "outputs": [],
   "source": []
  }
 ],
 "metadata": {
  "kernelspec": {
   "display_name": "Python 3.8.9 64-bit",
   "language": "python",
   "name": "python3"
  },
  "language_info": {
   "codemirror_mode": {
    "name": "ipython",
    "version": 3
   },
   "file_extension": ".py",
   "mimetype": "text/x-python",
   "name": "python",
   "nbconvert_exporter": "python",
   "pygments_lexer": "ipython3",
   "version": "3.8.9"
  },
  "orig_nbformat": 4,
  "vscode": {
   "interpreter": {
    "hash": "31f2aee4e71d21fbe5cf8b01ff0e069b9275f58929596ceb00d14d90e3e16cd6"
   }
  }
 },
 "nbformat": 4,
 "nbformat_minor": 2
}
