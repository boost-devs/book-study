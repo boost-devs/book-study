{
 "cells": [
  {
   "cell_type": "code",
   "execution_count": 1,
   "metadata": {},
   "outputs": [],
   "source": [
    "from abc import ABCMeta, abstractmethod"
   ]
  },
  {
   "cell_type": "code",
   "execution_count": 2,
   "metadata": {},
   "outputs": [],
   "source": [
    "class Beverage:\n",
    "    __metaclass__ = ABCMeta\n",
    "\n",
    "    def __init__(self):\n",
    "        self.cost = 0\n",
    "\n",
    "    def add_americano(self):\n",
    "        self.cost += 3000\n",
    "        return self\n",
    "\n",
    "    def add_green_tea(self):\n",
    "        self.cost += 3500\n",
    "        return self\n",
    "\n",
    "    def add_sugar(self):\n",
    "        self.cost += 700\n",
    "        return self"
   ]
  },
  {
   "cell_type": "code",
   "execution_count": 3,
   "metadata": {},
   "outputs": [
    {
     "name": "stdout",
     "output_type": "stream",
     "text": [
      "3500\n"
     ]
    }
   ],
   "source": [
    "customer = Beverage()\n",
    "customer.add_americano().add_sugar()\n",
    "print(customer.cost)"
   ]
  },
  {
   "cell_type": "markdown",
   "metadata": {},
   "source": [
    "### 위 구조의 단점\n",
    "* 설탕의 가격이 변경되거나, 새로운 메뉴가 추가되면 `Beverage` 클래스에 직접 들어가서 해당 method들을 변경해야함."
   ]
  },
  {
   "cell_type": "code",
   "execution_count": 4,
   "metadata": {},
   "outputs": [],
   "source": [
    "class Beverage:\n",
    "    __metaclass__ = ABCMeta\n",
    "\n",
    "    @abstractmethod\n",
    "    def cost(self):\n",
    "        pass"
   ]
  },
  {
   "cell_type": "code",
   "execution_count": 5,
   "metadata": {},
   "outputs": [],
   "source": [
    "class Americano(Beverage):\n",
    "\n",
    "    def cost(self):\n",
    "        return 3000\n",
    "\n",
    "\n",
    "class GreenTea(Beverage):\n",
    "\n",
    "    def cost(self):\n",
    "        return 3500\n",
    "\n",
    "\n",
    "class Sugar():\n",
    "\n",
    "    def __init__(self, beverage):\n",
    "        self._beverage = beverage\n",
    "\n",
    "    def cost(self):\n",
    "        return self._beverage.cost() + 500"
   ]
  },
  {
   "cell_type": "code",
   "execution_count": 6,
   "metadata": {},
   "outputs": [
    {
     "name": "stdout",
     "output_type": "stream",
     "text": [
      "4000\n"
     ]
    }
   ],
   "source": [
    "beverage = Americano()\n",
    "beverage = Sugar(beverage)\n",
    "beverage = Sugar(beverage)\n",
    "print(beverage.cost())"
   ]
  },
  {
   "cell_type": "markdown",
   "metadata": {},
   "source": [
    "### 위 구조\n",
    "* 설탕의 가격의 바뀌거나, 새로운 재료가 추가 돼도 독립적으로 각 객체들을 다룰 수 있다."
   ]
  },
  {
   "cell_type": "code",
   "execution_count": null,
   "metadata": {},
   "outputs": [],
   "source": []
  }
 ],
 "metadata": {
  "kernelspec": {
   "display_name": "Python 3.10.7 64-bit (microsoft store)",
   "language": "python",
   "name": "python3"
  },
  "language_info": {
   "codemirror_mode": {
    "name": "ipython",
    "version": 3
   },
   "file_extension": ".py",
   "mimetype": "text/x-python",
   "name": "python",
   "nbconvert_exporter": "python",
   "pygments_lexer": "ipython3",
   "version": "3.10.9 (tags/v3.10.9:1dd9be6, Dec  6 2022, 20:01:21) [MSC v.1934 64 bit (AMD64)]"
  },
  "orig_nbformat": 4,
  "vscode": {
   "interpreter": {
    "hash": "7b1f2b33e866b0bf2409397e5f58ba9cdf170d3b7f64c8f359c79998e2f88ad4"
   }
  }
 },
 "nbformat": 4,
 "nbformat_minor": 2
}
