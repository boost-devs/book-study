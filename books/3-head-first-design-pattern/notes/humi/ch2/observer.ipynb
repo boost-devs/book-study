{
 "cells": [
  {
   "cell_type": "code",
   "execution_count": 2,
   "metadata": {},
   "outputs": [],
   "source": [
    "from abc import abstractmethod"
   ]
  },
  {
   "cell_type": "code",
   "execution_count": 3,
   "metadata": {},
   "outputs": [],
   "source": [
    "class WeatherAPI:\n",
    "\n",
    "    def __init__(self) -> None:\n",
    "        self.temp = None\n",
    "        self.wind = None\n",
    "\n",
    "    def update_temp(self, temp):\n",
    "        self.temp = temp\n",
    "        return self\n",
    "\n",
    "    def update_wind(self, wind):\n",
    "        self.wind = wind\n",
    "        return self\n",
    "\n",
    "    @abstractmethod\n",
    "    def display(self):\n",
    "        pass"
   ]
  },
  {
   "cell_type": "code",
   "execution_count": 15,
   "metadata": {},
   "outputs": [],
   "source": [
    "class SBS(WeatherAPI):\n",
    "\n",
    "    def display(self):\n",
    "        print(\"SBS:\", self.temp)"
   ]
  },
  {
   "cell_type": "code",
   "execution_count": 18,
   "metadata": {},
   "outputs": [],
   "source": [
    "class KBS(WeatherAPI):\n",
    "\n",
    "    def display(self):\n",
    "        print(\"KBS:\", self.temp)"
   ]
  },
  {
   "cell_type": "code",
   "execution_count": 19,
   "metadata": {},
   "outputs": [
    {
     "name": "stdout",
     "output_type": "stream",
     "text": [
      "SBS: 10\n",
      "KBS: 10\n"
     ]
    }
   ],
   "source": [
    "weather_api = WeatherAPI()\n",
    "weather_api.update_temp(10)\n",
    "\n",
    "SBS_weather = SBS()\n",
    "SBS_weather.update_temp(weather_api.temp)\n",
    "SBS_weather.display()\n",
    "\n",
    "KBS_weather = KBS()\n",
    "KBS_weather.update_temp(weather_api.temp)\n",
    "KBS_weather.display()"
   ]
  },
  {
   "cell_type": "markdown",
   "metadata": {},
   "source": [
    "## Observer가 없을때\n",
    "\n",
    "기상청(`WeatherAPI`)에서 weather API를 보낼때마다 날씨 정보가 필요한 KBS, SBS는 수동으로 업데이틑 해줘야됨"
   ]
  },
  {
   "cell_type": "code",
   "execution_count": null,
   "metadata": {},
   "outputs": [],
   "source": []
  },
  {
   "cell_type": "code",
   "execution_count": 44,
   "metadata": {},
   "outputs": [],
   "source": [
    "class Subject:\n",
    "\n",
    "    @abstractmethod\n",
    "    def registerObserver(self, observer):\n",
    "        pass\n",
    "\n",
    "    @abstractmethod\n",
    "    def removeObserver(self, observer):\n",
    "        pass\n",
    "\n",
    "    @abstractmethod\n",
    "    def notifyObservers():\n",
    "        pass"
   ]
  },
  {
   "cell_type": "code",
   "execution_count": 52,
   "metadata": {},
   "outputs": [],
   "source": [
    "class WeatherAPI(Subject):\n",
    "    \n",
    "    def __init__(self):\n",
    "        self._observers = []\n",
    "        self.temp = None\n",
    "        self.wind = None\n",
    "\n",
    "    def registerObserver(self, observer):\n",
    "        self._observers.append(observer)\n",
    "\n",
    "    def removeObserver(self, observer):\n",
    "        try:\n",
    "            self._observers.remove(observer)\n",
    "        except:\n",
    "            pass\n",
    "\n",
    "    def notifyObservers(self):\n",
    "        for obs in self._observers:\n",
    "            obs.update(self.temp, self.wind)\n",
    "\n",
    "    def measurementsChanged(self):\n",
    "        self.notifyObservers()\n",
    "\n",
    "    def update_weather(self, temp, wind):\n",
    "        self.temp = temp\n",
    "        self.wind = wind\n",
    "        \n",
    "        self.measurementsChanged()"
   ]
  },
  {
   "cell_type": "code",
   "execution_count": 53,
   "metadata": {},
   "outputs": [],
   "source": [
    "class Observer:\n",
    "\n",
    "    @abstractmethod\n",
    "    def update(self, temp, humidity):\n",
    "        pass"
   ]
  },
  {
   "cell_type": "code",
   "execution_count": 54,
   "metadata": {},
   "outputs": [],
   "source": [
    "class SBS(Observer):\n",
    "\n",
    "    def __init__(self, weather_data):\n",
    "        self.temp = None\n",
    "        self.wind = None\n",
    "        self.weather_data = weather_data\n",
    "\n",
    "        weather_data.registerObserver(self)\n",
    "\n",
    "    def update(self, temp, wind):\n",
    "        self.temp = temp\n",
    "        self.wind = wind\n",
    "        self.display()\n",
    "\n",
    "    def display(self):\n",
    "        print(\"SBS: \", self.temp)"
   ]
  },
  {
   "cell_type": "code",
   "execution_count": 55,
   "metadata": {},
   "outputs": [],
   "source": [
    "class KBS(Observer):\n",
    "\n",
    "    def __init__(self, weather_data):\n",
    "        self.temp = None\n",
    "        self.wind = None\n",
    "        self.weather_data = weather_data\n",
    "\n",
    "        weather_data.registerObserver(self)\n",
    "\n",
    "    def update(self, temp, wind):\n",
    "        self.temp = temp\n",
    "        self.wind = wind\n",
    "        self.display()\n",
    "\n",
    "    def display(self):\n",
    "        print(\"KBS: \", self.temp)"
   ]
  },
  {
   "cell_type": "code",
   "execution_count": 56,
   "metadata": {},
   "outputs": [
    {
     "name": "stdout",
     "output_type": "stream",
     "text": [
      "SBS:  10\n",
      "KBS:  10\n"
     ]
    }
   ],
   "source": [
    "weather_api = WeatherAPI()\n",
    "\n",
    "SBS_weather = SBS(weather_api)\n",
    "KBS_weather = KBS(weather_api)\n",
    "\n",
    "weather_api.update_weather(temp=10, wind=20)"
   ]
  },
  {
   "cell_type": "code",
   "execution_count": null,
   "metadata": {},
   "outputs": [],
   "source": []
  }
 ],
 "metadata": {
  "kernelspec": {
   "display_name": "Python 3.8.9 64-bit",
   "language": "python",
   "name": "python3"
  },
  "language_info": {
   "codemirror_mode": {
    "name": "ipython",
    "version": 3
   },
   "file_extension": ".py",
   "mimetype": "text/x-python",
   "name": "python",
   "nbconvert_exporter": "python",
   "pygments_lexer": "ipython3",
   "version": "3.8.9"
  },
  "orig_nbformat": 4,
  "vscode": {
   "interpreter": {
    "hash": "31f2aee4e71d21fbe5cf8b01ff0e069b9275f58929596ceb00d14d90e3e16cd6"
   }
  }
 },
 "nbformat": 4,
 "nbformat_minor": 2
}
