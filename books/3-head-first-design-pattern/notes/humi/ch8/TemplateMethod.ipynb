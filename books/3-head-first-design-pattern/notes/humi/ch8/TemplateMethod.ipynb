{
 "cells": [
  {
   "cell_type": "code",
   "execution_count": 5,
   "metadata": {},
   "outputs": [
    {
     "name": "stdout",
     "output_type": "stream",
     "text": [
      "my name is thon\n",
      "my name is thon Py"
     ]
    }
   ],
   "source": [
    "# https://by-exist.tistory.com/26\n",
    "from abc import ABC, abstractmethod\n",
    "\n",
    "class AbstractClass(ABC):\n",
    "\n",
    "    # 알고리즘의 뼈대는 추상 클래스의 메소드로 설계되어 있다.\n",
    "    def template_method(self):\n",
    "        self.my_name_is()\n",
    "        self.second_name()\n",
    "        self.first_name()\n",
    "\n",
    "    # 기본 - 서브클래스 전반에서 사용되는 연산\n",
    "    def my_name_is(self):\n",
    "        print(\"my name is \", end=\"\")\n",
    "\n",
    "    # 훅 - 서브클래스에서 필요에 따라 재정의하는 연산\n",
    "    def first_name(self):\n",
    "        pass # Python에서는 `pass`를 주로 사용. 서브 클래스에서 사용할 수도, 안할 수도 있음.\n",
    "\n",
    "    # 필수 - 서브클래스에서 필수로 재정의해야 하는 연산\n",
    "    @abstractmethod\n",
    "    def second_name(self):\n",
    "        pass\n",
    "\n",
    "\n",
    "# 필수만 재정의\n",
    "class Name(AbstractClass):\n",
    "\n",
    "    def second_name(self):\n",
    "        print(\"thon\")\n",
    "\n",
    "\n",
    "# 필수 및 훅 또한 정의\n",
    "class FullName(AbstractClass):\n",
    "\n",
    "    def first_name(self):\n",
    "        print(\"Py\", end=\"\")\n",
    "\n",
    "    def second_name(self):\n",
    "        print(\"thon\", end=\" \")\n",
    "\n",
    "name = Name()\n",
    "name.template_method()\n",
    "\n",
    "full_name = FullName()\n",
    "full_name.template_method()"
   ]
  }
 ],
 "metadata": {
  "kernelspec": {
   "display_name": "Python 3",
   "language": "python",
   "name": "python3"
  },
  "language_info": {
   "codemirror_mode": {
    "name": "ipython",
    "version": 3
   },
   "file_extension": ".py",
   "mimetype": "text/x-python",
   "name": "python",
   "nbconvert_exporter": "python",
   "pygments_lexer": "ipython3",
   "version": "3.10.9"
  },
  "orig_nbformat": 4,
  "vscode": {
   "interpreter": {
    "hash": "7b1f2b33e866b0bf2409397e5f58ba9cdf170d3b7f64c8f359c79998e2f88ad4"
   }
  }
 },
 "nbformat": 4,
 "nbformat_minor": 2
}
